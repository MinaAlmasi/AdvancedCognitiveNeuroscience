{
 "cells": [
  {
   "cell_type": "markdown",
   "metadata": {},
   "source": [
    "## Task for Class (From Notebook 11)\n",
    "1. Use 5 fold cross-validation to get a less biased classification accuracy\n",
    "2. What is the mean accuracy using Gaussian Naive bayes? \n",
    "3. Can you find another classifier that does better? "
   ]
  },
  {
   "cell_type": "code",
   "execution_count": 2,
   "metadata": {},
   "outputs": [],
   "source": [
    "from ndslib.data import load_data\n",
    "import numpy as np\n",
    "\n",
    "from sklearn.naive_bayes import GaussianNB\n",
    "from sklearn.model_selection import cross_validate\n",
    "from sklearn.preprocessing import StandardScaler\n",
    "from sklearn.pipeline import Pipeline"
   ]
  },
  {
   "cell_type": "code",
   "execution_count": 3,
   "metadata": {},
   "outputs": [],
   "source": [
    "# other models \n",
    "from sklearn.neural_network import MLPClassifier\n",
    "from sklearn.neighbors import KNeighborsClassifier\n",
    "from sklearn.svm import SVC\n",
    "from sklearn.gaussian_process import GaussianProcessClassifier\n",
    "from sklearn.gaussian_process.kernels import RBF\n",
    "from sklearn.tree import DecisionTreeClassifier\n",
    "from sklearn.ensemble import RandomForestClassifier, AdaBoostClassifier"
   ]
  },
  {
   "cell_type": "code",
   "execution_count": 4,
   "metadata": {},
   "outputs": [],
   "source": [
    "# load data \n",
    "abide_data = load_data(\"abide2\")"
   ]
  },
  {
   "cell_type": "code",
   "execution_count": 5,
   "metadata": {},
   "outputs": [],
   "source": [
    "# define X folds, y features \n",
    "X = abide_data.filter(like='fs')\n",
    "y = abide_data[\"group\"]"
   ]
  },
  {
   "cell_type": "code",
   "execution_count": 21,
   "metadata": {},
   "outputs": [],
   "source": [
    "def cross_validator(clf, X, y, n_folds, return_dict=True): \n",
    "    # setup pipeline for classifcation\n",
    "    pipe = Pipeline([\n",
    "        (\"scale\", StandardScaler()),\n",
    "        (\"clf\", clf)]\n",
    "    )\n",
    "\n",
    "    output = cross_validate(pipe, X, y, cv=n_folds, return_estimator=True)\n",
    "\n",
    "    if return_dict: \n",
    "        return output \n",
    "\n",
    "    else:\n",
    "        return np.mean(output[\"test_score\"])        \n",
    "\n",
    "    return output "
   ]
  },
  {
   "cell_type": "code",
   "execution_count": 23,
   "metadata": {},
   "outputs": [
    {
     "name": "stdout",
     "output_type": "stream",
     "text": [
      "GaussianNB mean score: 0.5907\n",
      "KNeighborsClassifier mean score: 0.5946\n",
      "SVC mean score: 0.6176\n"
     ]
    },
    {
     "name": "stderr",
     "output_type": "stream",
     "text": [
      "/work/mina_folder/AdvancedCognitiveNeuroscience/env/lib/python3.10/site-packages/sklearn/neural_network/_multilayer_perceptron.py:691: ConvergenceWarning: Stochastic Optimizer: Maximum iterations (200) reached and the optimization hasn't converged yet.\n",
      "  warnings.warn(\n",
      "/work/mina_folder/AdvancedCognitiveNeuroscience/env/lib/python3.10/site-packages/sklearn/neural_network/_multilayer_perceptron.py:691: ConvergenceWarning: Stochastic Optimizer: Maximum iterations (200) reached and the optimization hasn't converged yet.\n",
      "  warnings.warn(\n",
      "/work/mina_folder/AdvancedCognitiveNeuroscience/env/lib/python3.10/site-packages/sklearn/neural_network/_multilayer_perceptron.py:691: ConvergenceWarning: Stochastic Optimizer: Maximum iterations (200) reached and the optimization hasn't converged yet.\n",
      "  warnings.warn(\n"
     ]
    },
    {
     "name": "stdout",
     "output_type": "stream",
     "text": [
      "MLPClassifier mean score: 0.6036\n"
     ]
    }
   ],
   "source": [
    "n_folds = 5\n",
    "\n",
    "# prep classifiers\n",
    "clf_KNN = KNeighborsClassifier()\n",
    "clf_GNB = GaussianNB()\n",
    "clf_SVC = SVC()\n",
    "clf_MLP = MLPClassifier(hidden_layer_sizes=(30, ))\n",
    "\n",
    "for clf in [clf_GNB, clf_KNN, clf_SVC, clf_MLP]:\n",
    "    mean_score = cross_validator(clf, X, y, n_folds=n_folds, return_dict=False)\n",
    "    print(f\"{clf.__class__.__name__} mean score: {round(mean_score, 4)}\")\n"
   ]
  }
 ],
 "metadata": {
  "kernelspec": {
   "display_name": "env",
   "language": "python",
   "name": "python3"
  },
  "language_info": {
   "codemirror_mode": {
    "name": "ipython",
    "version": 3
   },
   "file_extension": ".py",
   "mimetype": "text/x-python",
   "name": "python",
   "nbconvert_exporter": "python",
   "pygments_lexer": "ipython3",
   "version": "3.10.12"
  },
  "orig_nbformat": 4
 },
 "nbformat": 4,
 "nbformat_minor": 2
}
